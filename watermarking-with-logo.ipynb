{
 "cells": [
  {
   "cell_type": "code",
   "execution_count": 24,
   "metadata": {},
   "outputs": [],
   "source": [
    "from PIL import Image, ImageDraw, ImageFont"
   ]
  },
  {
   "cell_type": "code",
   "execution_count": null,
   "metadata": {},
   "outputs": [
    {
     "name": "stdout",
     "output_type": "stream",
     "text": [
      "Sample Path C:/Users/Shyamdas.Mallya/Pictures/OutputImage.png\n"
     ]
    }
   ],
   "source": [
    "def watermark_with_transparency(input_image_path,\n",
    "                                output_image_path,\n",
    "                                watermark_image_path,\n",
    "                                position):\n",
    "    base_image = Image.open(input_image_path)\n",
    "    watermark = Image.open(watermark_image_path)\n",
    "    #width, height = base_image.size\n",
    " \n",
    "    transparent = Image.new('RGBA', base_image.size, (255,255,255,0))\n",
    "    transparent.paste(base_image, (0,0))\n",
    "    transparent.paste(watermark, (0,0), watermark.convert('RGBA'))\n",
    "    #transparent.paste(watermark, (0,100), mask=0)\n",
    "    #transparent.show()\n",
    "    transparent.save(output_image_path)\n",
    "    print (\"File Saved:\",output_image_path) \n",
    "    \n",
    "if __name__ == '__main__':\n",
    "    #img = 'C:/Users/Shyamdas.Mallya/Pictures/InputImage.png'\n",
    "    #omg = 'C:/Users/Shyamdas.Mallya/Pictures/OutputImage.png'\n",
    "    logo = 'C:/Users/Shyamdas.Mallya/Downloads/logo.png'\n",
    "    print (\"Sample Path C:/Users/Shyamdas.Mallya/Pictures/OutputImage.png\")\n",
    "    img = input (\"Enter Input File: \")\n",
    "    omg = input (\"Enter Output File: \")\n",
    "    watermark_with_transparency(img, omg,logo, position=(0,0))\n",
    "\n",
    "\n"
   ]
  },
  {
   "cell_type": "code",
   "execution_count": null,
   "metadata": {},
   "outputs": [],
   "source": []
  },
  {
   "cell_type": "code",
   "execution_count": null,
   "metadata": {},
   "outputs": [],
   "source": []
  },
  {
   "cell_type": "code",
   "execution_count": null,
   "metadata": {},
   "outputs": [],
   "source": []
  }
 ],
 "metadata": {
  "kernelspec": {
   "display_name": "Python 3",
   "language": "python",
   "name": "python3"
  },
  "language_info": {
   "codemirror_mode": {
    "name": "ipython",
    "version": 3
   },
   "file_extension": ".py",
   "mimetype": "text/x-python",
   "name": "python",
   "nbconvert_exporter": "python",
   "pygments_lexer": "ipython3",
   "version": "3.7.0"
  }
 },
 "nbformat": 4,
 "nbformat_minor": 2
}
